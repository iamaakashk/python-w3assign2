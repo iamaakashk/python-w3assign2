{
 "cells": [
  {
   "cell_type": "code",
   "execution_count": 4,
   "id": "e25dd6d7-598e-4c6c-a3b2-7b7be6cfa7db",
   "metadata": {},
   "outputs": [],
   "source": [
    "#q1"
   ]
  },
  {
   "cell_type": "code",
   "execution_count": 1,
   "id": "37c3ba12-e976-44a0-be40-587e5f0290a4",
   "metadata": {},
   "outputs": [],
   "source": [
    "scores=[('Sachin Tendulkar', 34357), ('Ricky Ponting', 27483), ('Jack Kallis', 25534), ('Virat Kohli', 24936)]"
   ]
  },
  {
   "cell_type": "code",
   "execution_count": 2,
   "id": "b2fdc022-0e6b-41a1-b5d9-c45f90a27f41",
   "metadata": {},
   "outputs": [],
   "source": [
    "scores.sort(key = lambda x: x[1])"
   ]
  },
  {
   "cell_type": "code",
   "execution_count": 3,
   "id": "059d2bd6-45e0-41e3-9eb1-8870bd714e68",
   "metadata": {},
   "outputs": [
    {
     "name": "stdout",
     "output_type": "stream",
     "text": [
      "[('Virat Kohli', 24936), ('Jack Kallis', 25534), ('Ricky Ponting', 27483), ('Sachin Tendulkar', 34357)]\n"
     ]
    }
   ],
   "source": [
    "print(scores)"
   ]
  },
  {
   "cell_type": "code",
   "execution_count": 17,
   "id": "bbded239-22d3-42c9-9a68-1d485cee7cbe",
   "metadata": {},
   "outputs": [],
   "source": [
    "#Q2"
   ]
  },
  {
   "cell_type": "code",
   "execution_count": 6,
   "id": "f78e859e-833e-493f-8575-aa6707aa00aa",
   "metadata": {},
   "outputs": [],
   "source": [
    "list1=[1, 2, 3, 4, 5, 6, 7, 8, 9, 10]"
   ]
  },
  {
   "cell_type": "code",
   "execution_count": 16,
   "id": "915ee6fe-99a5-4b5b-a5ef-0bc5ea782518",
   "metadata": {},
   "outputs": [
    {
     "data": {
      "text/plain": [
       "[1, 4, 9, 16, 25, 36, 49, 64, 81, 100]"
      ]
     },
     "execution_count": 16,
     "metadata": {},
     "output_type": "execute_result"
    }
   ],
   "source": [
    "list(map(lambda x : x**2, list1))"
   ]
  },
  {
   "cell_type": "code",
   "execution_count": 18,
   "id": "16e87011-903a-41a8-8ee2-6319c3c21d27",
   "metadata": {},
   "outputs": [],
   "source": [
    "#Q3"
   ]
  },
  {
   "cell_type": "code",
   "execution_count": 19,
   "id": "fcc264b3-13bf-46e6-a512-aceff2c57b37",
   "metadata": {},
   "outputs": [],
   "source": [
    "list2=[1, 2, 3, 4, 5, 6, 7, 8, 9, 10]"
   ]
  },
  {
   "cell_type": "code",
   "execution_count": 20,
   "id": "b0ac0728-1a55-454a-bd48-f63501bd02bb",
   "metadata": {},
   "outputs": [
    {
     "data": {
      "text/plain": [
       "('1', '2', '3', '4', '5', '6', '7', '8', '9', '10')"
      ]
     },
     "execution_count": 20,
     "metadata": {},
     "output_type": "execute_result"
    }
   ],
   "source": [
    "tuple(map(lambda x : str(x) , list2))"
   ]
  },
  {
   "cell_type": "code",
   "execution_count": 21,
   "id": "22920088-e1ba-4845-a354-d2567d524089",
   "metadata": {},
   "outputs": [],
   "source": [
    "#Q4"
   ]
  },
  {
   "cell_type": "code",
   "execution_count": 22,
   "id": "326219a8-b0b5-4424-b325-4147855145d4",
   "metadata": {},
   "outputs": [],
   "source": [
    "list3=[1,2,3,4,5,6,7,8,9,10,11,12,13,14,15,16,17,18,19,20,21,22,23,24,25]"
   ]
  },
  {
   "cell_type": "code",
   "execution_count": 25,
   "id": "9d331f8b-7b80-4ac2-8ae8-29bfb0aff90b",
   "metadata": {},
   "outputs": [],
   "source": [
    "from functools import reduce"
   ]
  },
  {
   "cell_type": "code",
   "execution_count": 26,
   "id": "f2bf7dee-fcae-438a-99ee-3110434408aa",
   "metadata": {},
   "outputs": [
    {
     "data": {
      "text/plain": [
       "15511210043330985984000000"
      ]
     },
     "execution_count": 26,
     "metadata": {},
     "output_type": "execute_result"
    }
   ],
   "source": [
    "reduce(lambda x,y : x*y, list3)"
   ]
  },
  {
   "cell_type": "code",
   "execution_count": 27,
   "id": "10cac792-82af-4ebb-a2f6-9bd8df4efd04",
   "metadata": {},
   "outputs": [],
   "source": [
    "#Q5"
   ]
  },
  {
   "cell_type": "code",
   "execution_count": 28,
   "id": "6d07ca02-6fa7-4a85-a2c3-12e29327e45c",
   "metadata": {},
   "outputs": [],
   "source": [
    "list4 = [2, 3, 6, 9, 27, 60, 90, 120, 55, 46]"
   ]
  },
  {
   "cell_type": "code",
   "execution_count": 34,
   "id": "ccf2e308-9b77-497c-8823-d6a1506bb20a",
   "metadata": {},
   "outputs": [
    {
     "data": {
      "text/plain": [
       "[2, 3, 6, 9, 27, 60, 90, 120, 46]"
      ]
     },
     "execution_count": 34,
     "metadata": {},
     "output_type": "execute_result"
    }
   ],
   "source": [
    "list(filter(lambda x :  x%2==0 or x%3==0 , list4 ))"
   ]
  },
  {
   "cell_type": "code",
   "execution_count": 35,
   "id": "bbef43df-8dfb-40c9-bcc8-0ff868b595d6",
   "metadata": {},
   "outputs": [],
   "source": [
    "#Q6"
   ]
  },
  {
   "cell_type": "code",
   "execution_count": 36,
   "id": "84e35839-60e1-4877-aed6-a1de072fd457",
   "metadata": {},
   "outputs": [],
   "source": [
    "list5=['python', 'php', 'aba', 'radar', 'level']"
   ]
  },
  {
   "cell_type": "code",
   "execution_count": 44,
   "id": "9c2ed4fa-1647-438c-8e73-d1708219249f",
   "metadata": {},
   "outputs": [
    {
     "data": {
      "text/plain": [
       "['php', 'aba', 'radar', 'level']"
      ]
     },
     "execution_count": 44,
     "metadata": {},
     "output_type": "execute_result"
    }
   ],
   "source": [
    "list(filter(lambda x : (x == \"\".join(reversed(x))) , list5))"
   ]
  },
  {
   "cell_type": "code",
   "execution_count": null,
   "id": "f4a64ed9-e293-409b-a0a6-d1586537e687",
   "metadata": {},
   "outputs": [],
   "source": []
  }
 ],
 "metadata": {
  "kernelspec": {
   "display_name": "Python 3 (ipykernel)",
   "language": "python",
   "name": "python3"
  },
  "language_info": {
   "codemirror_mode": {
    "name": "ipython",
    "version": 3
   },
   "file_extension": ".py",
   "mimetype": "text/x-python",
   "name": "python",
   "nbconvert_exporter": "python",
   "pygments_lexer": "ipython3",
   "version": "3.10.8"
  }
 },
 "nbformat": 4,
 "nbformat_minor": 5
}
